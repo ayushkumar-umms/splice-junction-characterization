{
 "cells": [
  {
   "cell_type": "markdown",
   "metadata": {},
   "source": [
    "# Constitutive exons in GTF file (constitutive_exons.py)"
   ]
  },
  {
   "cell_type": "markdown",
   "metadata": {},
   "source": [
    "The following file contains the function to identify which exons are constitutive"
   ]
  },
  {
   "cell_type": "code",
   "execution_count": 1,
   "metadata": {},
   "outputs": [],
   "source": [
    "#!/usr/bin/python3\n",
    "import pandas as pd\n",
    "import numpy as np\n",
    "from sys import argv\n",
    "import time\n",
    "import os\n",
    "from collections import Counter"
   ]
  },
  {
   "cell_type": "markdown",
   "metadata": {},
   "source": [
    "### Inputs and Intital setup of function"
   ]
  },
  {
   "cell_type": "markdown",
   "metadata": {},
   "source": [
    "The input to this function is the GTF file. We first get all the transcripts in the GTF file and separate the transcripts into two categories:\n",
    "1. Genes that have only one transcript\n",
    "2. Genes that have more than one transcript\n",
    "If a gene has only onetranscript, then all its exons assocaited with it are considered constitutive. \n",
    "If a genes has more than one transcript, we need to do a little bit more (upcoming)"
   ]
  },
  {
   "cell_type": "code",
   "execution_count": 2,
   "metadata": {},
   "outputs": [],
   "source": [
    "def constitutive_exons(df):\n",
    "    gtf = df\n",
    "    gtf_transcripts = gtf[gtf['feature'] == 'transcript']\n",
    "    cnt_genes = Counter(gtf_transcripts['gene_id'].tolist())\n",
    "    sing_trans =  [a for a, b in cnt_genes.items() if b == 1]\n",
    "    gtf_exons = gtf[gtf['feature']== 'exon']\n",
    "    gtf_exons_in_transcripts = gtf_exons[gtf_exons['gene_id'].isin(sing_trans)][['seqname', 'start','end','strand','exon_id', 'gene_id']]\n",
    "    multi_trans = [h for h, j in cnt_genes.items() if j > 1]\n",
    "    gtf_exons_in_multi_transcripts = gtf_exons[gtf_exons['gene_id'].isin(multi_trans)][['seqname', 'start','end','strand','gene_id', 'transcript_id', 'exon_id']]\n",
    "    final_exon_list = set()\n",
    "    start = time.process_time()"
   ]
  },
  {
   "cell_type": "markdown",
   "metadata": {},
   "source": [
    "For genes that have multiple trancsripts, we get all the exons assocaited with that gene, and the number of transcripts for that gene. If the number of times an exon is repeated equals the number of transcripts, it must be a constitutive exon."
   ]
  },
  {
   "cell_type": "markdown",
   "metadata": {},
   "source": [
    "\n",
    "    "
   ]
  },
  {
   "cell_type": "code",
   "execution_count": 3,
   "metadata": {},
   "outputs": [
    {
     "ename": "NameError",
     "evalue": "name 'multi_trans' is not defined",
     "output_type": "error",
     "traceback": [
      "\u001b[0;31m---------------------------------------------------------------------------\u001b[0m",
      "\u001b[0;31mNameError\u001b[0m                                 Traceback (most recent call last)",
      "\u001b[0;32m<ipython-input-3-27f7f0643356>\u001b[0m in \u001b[0;36m<module>\u001b[0;34m\u001b[0m\n\u001b[0;32m----> 1\u001b[0;31m \u001b[0;32mfor\u001b[0m \u001b[0mgene\u001b[0m \u001b[0;32min\u001b[0m \u001b[0mmulti_trans\u001b[0m\u001b[0;34m:\u001b[0m\u001b[0;34m\u001b[0m\u001b[0;34m\u001b[0m\u001b[0m\n\u001b[0m\u001b[1;32m      2\u001b[0m     \u001b[0mgene_of_interest\u001b[0m\u001b[0;34m=\u001b[0m \u001b[0mgtf_exons_in_multi_transcripts\u001b[0m\u001b[0;34m[\u001b[0m\u001b[0mgtf_exons_in_multi_transcripts\u001b[0m\u001b[0;34m[\u001b[0m\u001b[0;34m'gene_id'\u001b[0m\u001b[0;34m]\u001b[0m\u001b[0;34m.\u001b[0m\u001b[0misin\u001b[0m\u001b[0;34m(\u001b[0m\u001b[0;34m[\u001b[0m\u001b[0mgene\u001b[0m\u001b[0;34m]\u001b[0m\u001b[0;34m)\u001b[0m\u001b[0;34m]\u001b[0m\u001b[0;34m\u001b[0m\u001b[0;34m\u001b[0m\u001b[0m\n\u001b[1;32m      3\u001b[0m     \u001b[0mtotal_transcripts\u001b[0m  \u001b[0;34m=\u001b[0m \u001b[0mlen\u001b[0m\u001b[0;34m(\u001b[0m\u001b[0mgene_of_interest\u001b[0m\u001b[0;34m[\u001b[0m\u001b[0;34m'transcript_id'\u001b[0m\u001b[0;34m]\u001b[0m\u001b[0;34m.\u001b[0m\u001b[0munique\u001b[0m\u001b[0;34m(\u001b[0m\u001b[0;34m)\u001b[0m\u001b[0;34m)\u001b[0m\u001b[0;34m\u001b[0m\u001b[0;34m\u001b[0m\u001b[0m\n\u001b[1;32m      4\u001b[0m     \u001b[0mcnt_exons\u001b[0m \u001b[0;34m=\u001b[0m \u001b[0mCounter\u001b[0m\u001b[0;34m(\u001b[0m\u001b[0mgene_of_interest\u001b[0m\u001b[0;34m[\u001b[0m\u001b[0;34m'exon_id'\u001b[0m\u001b[0;34m]\u001b[0m\u001b[0;34m.\u001b[0m\u001b[0mtolist\u001b[0m\u001b[0;34m(\u001b[0m\u001b[0;34m)\u001b[0m\u001b[0;34m)\u001b[0m\u001b[0;34m\u001b[0m\u001b[0;34m\u001b[0m\u001b[0m\n\u001b[1;32m      5\u001b[0m     \u001b[0mcons_exons\u001b[0m \u001b[0;34m=\u001b[0m \u001b[0;34m[\u001b[0m\u001b[0mm\u001b[0m \u001b[0;32mfor\u001b[0m \u001b[0mm\u001b[0m\u001b[0;34m,\u001b[0m \u001b[0mn\u001b[0m \u001b[0;32min\u001b[0m \u001b[0mcnt_exons\u001b[0m\u001b[0;34m.\u001b[0m\u001b[0mitems\u001b[0m\u001b[0;34m(\u001b[0m\u001b[0;34m)\u001b[0m \u001b[0;32mif\u001b[0m \u001b[0mn\u001b[0m \u001b[0;34m==\u001b[0m \u001b[0mtotal_transcripts\u001b[0m\u001b[0;34m]\u001b[0m\u001b[0;34m\u001b[0m\u001b[0;34m\u001b[0m\u001b[0m\n",
      "\u001b[0;31mNameError\u001b[0m: name 'multi_trans' is not defined"
     ]
    }
   ],
   "source": [
    "    for gene in multi_trans:\n",
    "        gene_of_interest= gtf_exons_in_multi_transcripts[gtf_exons_in_multi_transcripts['gene_id'].isin([gene])]\n",
    "        total_transcripts  = len(gene_of_interest['transcript_id'].unique())\n",
    "        cnt_exons = Counter(gene_of_interest['exon_id'].tolist())\n",
    "        cons_exons = [m for m, n in cnt_exons.items() if n == total_transcripts]\n",
    "        df_cons_exons = gene_of_interest[gene_of_interest['exon_id'].isin(cons_exons)]\n",
    "        for item in df_cons_exons.itertuples():\n",
    "            final_exon_list.add((item.seqname, item.start,item.end,item.strand,item.exon_id, gene))\n",
    "    df = pd.DataFrame(final_exon_list, columns = ['seqname', 'start','end','strand', 'exon_id', 'gene_id'])\n",
    "    fin_df = pd.concat([df,gtf_exons_in_transcripts])\n",
    "    convert_type = {'seqname': str, 'strand': str}\n",
    "    fin_df.astype(convert_type)\n",
    "    return fin_df"
   ]
  }
 ],
 "metadata": {
  "kernelspec": {
   "display_name": "Python 3",
   "language": "python",
   "name": "python3"
  },
  "language_info": {
   "codemirror_mode": {
    "name": "ipython",
    "version": 3
   },
   "file_extension": ".py",
   "mimetype": "text/x-python",
   "name": "python",
   "nbconvert_exporter": "python",
   "pygments_lexer": "ipython3",
   "version": "3.8.2"
  }
 },
 "nbformat": 4,
 "nbformat_minor": 4
}
