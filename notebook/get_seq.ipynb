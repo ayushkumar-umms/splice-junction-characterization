{
 "cells": [
  {
   "cell_type": "markdown",
   "metadata": {},
   "source": [
    "# Get sequence info (get_seq_splicesite.py)"
   ]
  },
  {
   "cell_type": "markdown",
   "metadata": {},
   "source": [
    "The following file is the file that contains the function to incorporate sequence information for each splice junction"
   ]
  },
  {
   "cell_type": "code",
   "execution_count": 1,
   "metadata": {},
   "outputs": [],
   "source": [
    "#!usr/local/bin\n",
    "import pandas as pd\n",
    "import numpy as np\n",
    "from sys import argv\n",
    "import subprocess"
   ]
  },
  {
   "cell_type": "markdown",
   "metadata": {},
   "source": [
    "### Inputs and Intital setup of function"
   ]
  },
  {
   "cell_type": "markdown",
   "metadata": {},
   "source": [
    "The input to this function is all the splice junctions given by the STAR file and the fasta file containing sequence info and is compatible with bedtools getfasta for alignment\n",
    "\n",
    "Steps of function:\n",
    "1. Take splice junctions from STAR file and add a strand column containing + or - string"
   ]
  },
  {
   "cell_type": "code",
   "execution_count": 2,
   "metadata": {},
   "outputs": [],
   "source": [
    "def sequence_splice_site(sp_junc, fasta_file):\n",
    "    part = sp_junc\n",
    "    part = part[['chr','first_base','last_base','motif','STAR_annotation','strand']]\n",
    "    part['first_base'] = part['first_base']\n",
    "    part['strand'] = part['strand'].apply(lambda x: '+' if x ==1 else ('-' if x==2 else np.nan))"
   ]
  },
  {
   "cell_type": "markdown",
   "metadata": {},
   "source": [
    "2. Separate the splice junctions into two dataframes.\n",
    "    - One containing the splice site found at the start base\n",
    "    - The other containing the splice site found at the end base\n",
    "3. Combine the two dataframes into one and use bedtools getfasta to take the strand info, and cooridante for each splice site to get the necessary sequence information\n",
    "    "
   ]
  },
  {
   "cell_type": "code",
   "execution_count": 3,
   "metadata": {},
   "outputs": [
    {
     "ename": "NameError",
     "evalue": "name 'part' is not defined",
     "output_type": "error",
     "traceback": [
      "\u001b[0;31m---------------------------------------------------------------------------\u001b[0m",
      "\u001b[0;31mNameError\u001b[0m                                 Traceback (most recent call last)",
      "\u001b[0;32m<ipython-input-3-bd36c20cc05a>\u001b[0m in \u001b[0;36m<module>\u001b[0;34m\u001b[0m\n\u001b[1;32m      1\u001b[0m \u001b[0mcat1\u001b[0m \u001b[0;34m=\u001b[0m \u001b[0mpd\u001b[0m\u001b[0;34m.\u001b[0m\u001b[0mDataFrame\u001b[0m\u001b[0;34m(\u001b[0m\u001b[0mcolumns\u001b[0m \u001b[0;34m=\u001b[0m \u001b[0;34m[\u001b[0m\u001b[0;34m'chr'\u001b[0m\u001b[0;34m,\u001b[0m\u001b[0;34m'start'\u001b[0m\u001b[0;34m,\u001b[0m\u001b[0;34m'end'\u001b[0m\u001b[0;34m,\u001b[0m\u001b[0;34m'def'\u001b[0m\u001b[0;34m,\u001b[0m\u001b[0;34m'ss'\u001b[0m\u001b[0;34m,\u001b[0m\u001b[0;34m'strand'\u001b[0m\u001b[0;34m]\u001b[0m\u001b[0;34m)\u001b[0m\u001b[0;34m\u001b[0m\u001b[0;34m\u001b[0m\u001b[0m\n\u001b[1;32m      2\u001b[0m \u001b[0mcat2\u001b[0m \u001b[0;34m=\u001b[0m \u001b[0mpd\u001b[0m\u001b[0;34m.\u001b[0m\u001b[0mDataFrame\u001b[0m\u001b[0;34m(\u001b[0m\u001b[0mcolumns\u001b[0m \u001b[0;34m=\u001b[0m \u001b[0;34m[\u001b[0m\u001b[0;34m'chr'\u001b[0m\u001b[0;34m,\u001b[0m\u001b[0;34m'start'\u001b[0m\u001b[0;34m,\u001b[0m\u001b[0;34m'end'\u001b[0m\u001b[0;34m,\u001b[0m\u001b[0;34m'def'\u001b[0m\u001b[0;34m,\u001b[0m\u001b[0;34m'ss'\u001b[0m\u001b[0;34m,\u001b[0m\u001b[0;34m'strand'\u001b[0m\u001b[0;34m]\u001b[0m\u001b[0;34m)\u001b[0m\u001b[0;34m\u001b[0m\u001b[0;34m\u001b[0m\u001b[0m\n\u001b[0;32m----> 3\u001b[0;31m \u001b[0mcat1\u001b[0m\u001b[0;34m[\u001b[0m\u001b[0;34m'chr'\u001b[0m\u001b[0;34m]\u001b[0m \u001b[0;34m=\u001b[0m \u001b[0mpart\u001b[0m\u001b[0;34m[\u001b[0m\u001b[0;34m'chr'\u001b[0m\u001b[0;34m]\u001b[0m\u001b[0;34m\u001b[0m\u001b[0;34m\u001b[0m\u001b[0m\n\u001b[0m\u001b[1;32m      4\u001b[0m \u001b[0mcat1\u001b[0m\u001b[0;34m[\u001b[0m\u001b[0;34m'start'\u001b[0m\u001b[0;34m]\u001b[0m \u001b[0;34m=\u001b[0m \u001b[0mpart\u001b[0m\u001b[0;34m[\u001b[0m\u001b[0;34m'first_base'\u001b[0m\u001b[0;34m]\u001b[0m \u001b[0;34m-\u001b[0m \u001b[0;36m26\u001b[0m\u001b[0;34m\u001b[0m\u001b[0;34m\u001b[0m\u001b[0m\n\u001b[1;32m      5\u001b[0m \u001b[0mcat1\u001b[0m\u001b[0;34m[\u001b[0m\u001b[0;34m'end'\u001b[0m\u001b[0;34m]\u001b[0m \u001b[0;34m=\u001b[0m \u001b[0mpart\u001b[0m\u001b[0;34m[\u001b[0m\u001b[0;34m'first_base'\u001b[0m\u001b[0;34m]\u001b[0m \u001b[0;34m+\u001b[0m\u001b[0;36m25\u001b[0m\u001b[0;34m\u001b[0m\u001b[0;34m\u001b[0m\u001b[0m\n",
      "\u001b[0;31mNameError\u001b[0m: name 'part' is not defined"
     ]
    }
   ],
   "source": [
    "    cat1 = pd.DataFrame(columns = ['chr','start','end','def','ss','strand'])\n",
    "    cat2 = pd.DataFrame(columns = ['chr','start','end','def','ss','strand'])\n",
    "    cat1['chr'] = part['chr']\n",
    "    cat1['start'] = part['first_base'] - 26\n",
    "    cat1['end'] = part['first_base'] +25\n",
    "    cat1['strand'] = part['strand']\n",
    "    cat1['ss'] = part['strand'].apply(lambda x: 3 if x =='-' else 5)\n",
    "    cat1['def'] = part.index +',' + cat1['ss'].astype(str)\n",
    "\n",
    "    cat2['chr'] = part['chr']\n",
    "    cat2['start'] = part['last_base'] -26\n",
    "    cat2['end'] = part['last_base'] +25\n",
    "    cat2['strand'] = part['strand']\n",
    "    cat2['ss'] = part['strand'].apply(lambda x: 5 if x =='-' else 3)\n",
    "    cat2['def'] = part.index +',' + cat2['ss'].astype(str)\n",
    "\n",
    "    fin = pd.concat([cat1,cat2])\n",
    "\n",
    "    fin.to_csv('data/bedfileex2.bed', sep ='\\t', header = False, index = False)\n",
    "    bash_cmd = \"bedtools getfasta -fi %s -bed data/bedfileex2.bed -s -name -tab\" % fasta_file\n",
    "    process= subprocess.Popen(bash_cmd.split(), stdout=subprocess.PIPE)\n",
    "    output, error = process.communicate()\n",
    "    results = output.decode(\"utf-8\")"
   ]
  },
  {
   "cell_type": "markdown",
   "metadata": {},
   "source": [
    "### Processing output from bedtools getfasta command"
   ]
  },
  {
   "cell_type": "markdown",
   "metadata": {},
   "source": [
    "Read the result of the bedtools getfasta command and make a dataframe out of it. This dataframe will be what is outputted by the program. The dataframe will contain which splice site sequnce is associated with either the. 5' or 3' splice site for each splice junction"
   ]
  },
  {
   "cell_type": "code",
   "execution_count": null,
   "metadata": {},
   "outputs": [],
   "source": [
    "    seqs = pd.DataFrame([x.split('\\t') for x in results_in_list], columns = [\"names\", 'seq'])\n",
    "    seqs['id_jnc'] = seqs['names'].str.split(':', n=1, expand = True)[0]\n",
    "    seqs[['JNC_ID', 'site']] = seqs.id_jnc.apply(lambda x: pd.Series(str(x).split(',')))\n",
    "    five_pr_seq = seqs.loc[seqs.site.isin(['5']), 'seq']\n",
    "    three_pr_seq = seqs.loc[seqs.site.isin(['3']), 'seq']\n",
    "    return seqs"
   ]
  }
 ],
 "metadata": {
  "kernelspec": {
   "display_name": "Python 3",
   "language": "python",
   "name": "python3"
  },
  "language_info": {
   "codemirror_mode": {
    "name": "ipython",
    "version": 3
   },
   "file_extension": ".py",
   "mimetype": "text/x-python",
   "name": "python",
   "nbconvert_exporter": "python",
   "pygments_lexer": "ipython3",
   "version": "3.8.2"
  }
 },
 "nbformat": 4,
 "nbformat_minor": 4
}
