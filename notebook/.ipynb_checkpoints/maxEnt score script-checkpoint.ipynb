{
 "cells": [
  {
   "cell_type": "markdown",
   "metadata": {},
   "source": [
    "# Get maxEnt scores (maxEnt.py)"
   ]
  },
  {
   "cell_type": "markdown",
   "metadata": {},
   "source": [
    "The following file is the file that contains the function to get the maxEnt score for each splice site. The function relies on the sequence information already available via get_splice_seq.py"
   ]
  },
  {
   "cell_type": "code",
   "execution_count": 4,
   "metadata": {},
   "outputs": [],
   "source": [
    "#!usr/bin/python3\n",
    "import pandas as pd\n",
    "import numpy as np\n",
    "import subprocess\n",
    "from sys import argv"
   ]
  },
  {
   "cell_type": "markdown",
   "metadata": {},
   "source": [
    "### Inputs and Intital setup of function"
   ]
  },
  {
   "cell_type": "markdown",
   "metadata": {},
   "source": [
    "The input to this function is all the splice junctions that contains the sequences at each splice site\n",
    "\n",
    "Steps of function:\n",
    "1. Take the sequences needed for the 5' ss and 3' ss for calculation and convert into a txt file that the score5.pl and score3.pl files can read"
   ]
  },
  {
   "cell_type": "code",
   "execution_count": 5,
   "metadata": {},
   "outputs": [],
   "source": [
    "def calculate_maxEnt(jnc):\n",
    "    ex_df = jnc\n",
    "    if ex_df.empty:\n",
    "        max_ent_series_5 = pd.DataFrame(columns = [\"5bases_maxEnt\", 'maxEnt_5'])\n",
    "        max_ent_series_3 = pd.DataFrame(columns = [\"3bases_maxEnt\", 'maxEnt_3'])\n",
    "    else:\n",
    "        lt_5 = ex_df[\"5bases_maxEnt\"].to_list()\n",
    "        with open('data/fivemaxent.txt', mode='wt', encoding='utf-8') as fiveprfile:\n",
    "            fiveprfile.write('\\n'.join(lt_5))\n",
    "        lt_3 = ex_df[\"3bases_maxEnt\"].tolist()\n",
    "        with open('data/threemaxent.txt', mode='wt', encoding='utf-8') as threeprfile:\n",
    "            threeprfile.write('\\n'.join(lt_3))"
   ]
  },
  {
   "cell_type": "markdown",
   "metadata": {},
   "source": [
    "\n",
    "    "
   ]
  },
  {
   "cell_type": "markdown",
   "metadata": {},
   "source": [
    "### Processing output"
   ]
  },
  {
   "cell_type": "markdown",
   "metadata": {},
   "source": [
    "2. Run the score5.pl and score3.pl files on the txt files created to get the scores "
   ]
  },
  {
   "cell_type": "code",
   "execution_count": 6,
   "metadata": {},
   "outputs": [
    {
     "ename": "IndentationError",
     "evalue": "unexpected indent (<ipython-input-6-fcd139fed9cf>, line 15)",
     "output_type": "error",
     "traceback": [
      "\u001b[0;36m  File \u001b[0;32m\"<ipython-input-6-fcd139fed9cf>\"\u001b[0;36m, line \u001b[0;32m15\u001b[0m\n\u001b[0;31m    return max_ent_series_5, max_ent_series_3\u001b[0m\n\u001b[0m    ^\u001b[0m\n\u001b[0;31mIndentationError\u001b[0m\u001b[0;31m:\u001b[0m unexpected indent\n"
     ]
    }
   ],
   "source": [
    "        bash_cmd_5 = \"perl score5.pl data/fivemaxent.txt\"\n",
    "        process_5 = subprocess.Popen(bash_cmd_5.split(), stdout=subprocess.PIPE)\n",
    "        output_5, error_5 = process_5.communicate()\n",
    "        results_5 = output_5.decode(\"utf-8\")\n",
    "        results_in_list_5 = results_5.split('\\n')\n",
    "        max_ent_series_5 = pd.DataFrame([x.split('\\t') for x in results_in_list_5], columns = [\"5bases_maxEnt\", 'maxEnt_5'])\n",
    "        max_ent_series_5.drop(max_ent_series_5.tail(1).index, inplace = True)\n",
    "        bash_cmd_3 = \"perl score3.pl data/threemaxent.txt\"\n",
    "        process_3 = subprocess.Popen(bash_cmd_3.split(), stdout=subprocess.PIPE)\n",
    "        output_3, error_3 = process_3.communicate()\n",
    "        results_3 = output_3.decode(\"utf-8\")\n",
    "        results_in_list_3 = results_3.split('\\n')\n",
    "        max_ent_series_3 = pd.DataFrame([x.split('\\t') for x in results_in_list_3], columns = [\"3bases_maxEnt\", 'maxEnt_3'])\n",
    "        max_ent_series_3.drop(max_ent_series_3.tail(1).index, inplace = True)\n",
    "    return max_ent_series_5, max_ent_series_3"
   ]
  }
 ],
 "metadata": {
  "kernelspec": {
   "display_name": "Python 3",
   "language": "python",
   "name": "python3"
  },
  "language_info": {
   "codemirror_mode": {
    "name": "ipython",
    "version": 3
   },
   "file_extension": ".py",
   "mimetype": "text/x-python",
   "name": "python",
   "nbconvert_exporter": "python",
   "pygments_lexer": "ipython3",
   "version": "3.8.2"
  }
 },
 "nbformat": 4,
 "nbformat_minor": 4
}
